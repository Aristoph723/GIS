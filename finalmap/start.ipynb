{
 "cells": [
  {
   "cell_type": "code",
   "execution_count": 1,
   "metadata": {},
   "outputs": [],
   "source": [
    "import geopandas as gpd\n",
    "import leafmap\n"
   ]
  },
  {
   "cell_type": "code",
   "execution_count": 2,
   "metadata": {},
   "outputs": [],
   "source": [
    "# import population.geojson \n",
    "pop = gpd.read_file('data/Hong_Kong_Population_Density_2021.geojson')"
   ]
  },
  {
   "cell_type": "code",
   "execution_count": 3,
   "metadata": {},
   "outputs": [
    {
     "data": {
      "application/vnd.jupyter.widget-view+json": {
       "model_id": "b84f0700c8d144989127b60eef7cba39",
       "version_major": 2,
       "version_minor": 0
      },
      "text/plain": [
       "Map(config={'version': 'v1', 'config': {'mapState': {'latitude': 22.36, 'longitude': 114.13, 'zoom': 10, 'bear…"
      ]
     },
     "metadata": {},
     "output_type": "display_data"
    }
   ],
   "source": [
    "import leafmap.kepler as leafmap\n",
    "\n",
    "m = leafmap.Map(center=[22.36, 114.13], zoom=10, height=600, widescreen=False)\n",
    "m.add_gdf(pop)\n",
    "\n",
    "m\n",
    "\n"
   ]
  },
  {
   "cell_type": "code",
   "execution_count": 5,
   "metadata": {},
   "outputs": [],
   "source": [
    "m.save_config('config.json')"
   ]
  },
  {
   "cell_type": "code",
   "execution_count": null,
   "metadata": {},
   "outputs": [],
   "source": [
    "import leafmap.kepler as leafmap\n",
    "\n",
    "m = leafmap.Map(center=[22.36, 114.13], zoom=10, height=600, widescreen=False)\n",
    "m.add_gdf(pop,config='config.json')\n",
    "\n",
    "m\n",
    "\n"
   ]
  }
 ],
 "metadata": {
  "kernelspec": {
   "display_name": "geos",
   "language": "python",
   "name": "python3"
  },
  "language_info": {
   "codemirror_mode": {
    "name": "ipython",
    "version": 3
   },
   "file_extension": ".py",
   "mimetype": "text/x-python",
   "name": "python",
   "nbconvert_exporter": "python",
   "pygments_lexer": "ipython3",
   "version": "3.11.5"
  }
 },
 "nbformat": 4,
 "nbformat_minor": 2
}
