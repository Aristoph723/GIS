{
 "cells": [
  {
   "cell_type": "code",
   "execution_count": 17,
   "metadata": {},
   "outputs": [],
   "source": [
    "# library import\n",
    "import pandas as pd\n",
    "import folium\n",
    "import matplotlib.pyplot as plt"
   ]
  },
  {
   "cell_type": "code",
   "execution_count": 18,
   "metadata": {},
   "outputs": [],
   "source": [
    "# import the csv file\n",
    "df = pd.read_csv('mydata.csv')"
   ]
  },
  {
   "cell_type": "code",
   "execution_count": 19,
   "metadata": {},
   "outputs": [
    {
     "data": {
      "text/html": [
       "<div>\n",
       "<style scoped>\n",
       "    .dataframe tbody tr th:only-of-type {\n",
       "        vertical-align: middle;\n",
       "    }\n",
       "\n",
       "    .dataframe tbody tr th {\n",
       "        vertical-align: top;\n",
       "    }\n",
       "\n",
       "    .dataframe thead th {\n",
       "        text-align: right;\n",
       "    }\n",
       "</style>\n",
       "<table border=\"1\" class=\"dataframe\">\n",
       "  <thead>\n",
       "    <tr style=\"text-align: right;\">\n",
       "      <th></th>\n",
       "      <th>name</th>\n",
       "      <th>description</th>\n",
       "      <th>latitude</th>\n",
       "      <th>longitude</th>\n",
       "      <th>color</th>\n",
       "    </tr>\n",
       "  </thead>\n",
       "  <tbody>\n",
       "    <tr>\n",
       "      <th>0</th>\n",
       "      <td>hkhome</td>\n",
       "      <td>Where I live in Hong Kong</td>\n",
       "      <td>22.317129</td>\n",
       "      <td>114.174648</td>\n",
       "      <td>red'</td>\n",
       "    </tr>\n",
       "    <tr>\n",
       "      <th>1</th>\n",
       "      <td>jpnhome</td>\n",
       "      <td>Where I live in Japan</td>\n",
       "      <td>35.840645</td>\n",
       "      <td>139.949278</td>\n",
       "      <td>blue'</td>\n",
       "    </tr>\n",
       "    <tr>\n",
       "      <th>2</th>\n",
       "      <td>reitaku</td>\n",
       "      <td>Our uni!</td>\n",
       "      <td>35.833270</td>\n",
       "      <td>139.955022</td>\n",
       "      <td>green'</td>\n",
       "    </tr>\n",
       "    <tr>\n",
       "      <th>3</th>\n",
       "      <td>npl</td>\n",
       "      <td>My secondary school (even though they call the...</td>\n",
       "      <td>22.313135</td>\n",
       "      <td>114.190123</td>\n",
       "      <td>purple'</td>\n",
       "    </tr>\n",
       "    <tr>\n",
       "      <th>4</th>\n",
       "      <td>tsl</td>\n",
       "      <td>My primary school! (this is where I first star...</td>\n",
       "      <td>22.315206</td>\n",
       "      <td>114.165315</td>\n",
       "      <td>pink'</td>\n",
       "    </tr>\n",
       "    <tr>\n",
       "      <th>5</th>\n",
       "      <td>mrg</td>\n",
       "      <td>My go-to HK model shop</td>\n",
       "      <td>22.316211</td>\n",
       "      <td>114.172716</td>\n",
       "      <td>lightblue'</td>\n",
       "    </tr>\n",
       "    <tr>\n",
       "      <th>6</th>\n",
       "      <td>mandarake</td>\n",
       "      <td>It has everything a hobbyist wants in one place!</td>\n",
       "      <td>35.700621</td>\n",
       "      <td>139.770396</td>\n",
       "      <td>gray'</td>\n",
       "    </tr>\n",
       "    <tr>\n",
       "      <th>7</th>\n",
       "      <td>surugaya</td>\n",
       "      <td>Wider selection of Gunpla!</td>\n",
       "      <td>35.701597</td>\n",
       "      <td>139.771920</td>\n",
       "      <td>black'</td>\n",
       "    </tr>\n",
       "    <tr>\n",
       "      <th>8</th>\n",
       "      <td>catalley</td>\n",
       "      <td>I befriended one of the stray cats there, they...</td>\n",
       "      <td>35.845078</td>\n",
       "      <td>139.952457</td>\n",
       "      <td>orange'</td>\n",
       "    </tr>\n",
       "  </tbody>\n",
       "</table>\n",
       "</div>"
      ],
      "text/plain": [
       "        name                                        description   latitude  \\\n",
       "0     hkhome                          Where I live in Hong Kong  22.317129   \n",
       "1    jpnhome                              Where I live in Japan  35.840645   \n",
       "2    reitaku                                           Our uni!  35.833270   \n",
       "3        npl  My secondary school (even though they call the...  22.313135   \n",
       "4        tsl  My primary school! (this is where I first star...  22.315206   \n",
       "5        mrg                             My go-to HK model shop  22.316211   \n",
       "6  mandarake   It has everything a hobbyist wants in one place!  35.700621   \n",
       "7   surugaya                         Wider selection of Gunpla!  35.701597   \n",
       "8   catalley  I befriended one of the stray cats there, they...  35.845078   \n",
       "\n",
       "    longitude       color  \n",
       "0  114.174648        red'  \n",
       "1  139.949278       blue'  \n",
       "2  139.955022      green'  \n",
       "3  114.190123     purple'  \n",
       "4  114.165315       pink'  \n",
       "5  114.172716  lightblue'  \n",
       "6  139.770396       gray'  \n",
       "7  139.771920      black'  \n",
       "8  139.952457     orange'  "
      ]
     },
     "execution_count": 19,
     "metadata": {},
     "output_type": "execute_result"
    }
   ],
   "source": [
    "df"
   ]
  },
  {
   "cell_type": "code",
   "execution_count": 20,
   "metadata": {},
   "outputs": [
    {
     "name": "stdout",
     "output_type": "stream",
     "text": [
      "<class 'pandas.core.frame.DataFrame'>\n",
      "RangeIndex: 9 entries, 0 to 8\n",
      "Data columns (total 5 columns):\n",
      " #   Column       Non-Null Count  Dtype  \n",
      "---  ------       --------------  -----  \n",
      " 0   name         9 non-null      object \n",
      " 1   description  9 non-null      object \n",
      " 2   latitude     9 non-null      float64\n",
      " 3   longitude    9 non-null      float64\n",
      " 4    color       9 non-null      object \n",
      "dtypes: float64(2), object(3)\n",
      "memory usage: 492.0+ bytes\n"
     ]
    }
   ],
   "source": [
    "# information about the data\n",
    "df.info()"
   ]
  },
  {
   "cell_type": "code",
   "execution_count": 21,
   "metadata": {},
   "outputs": [
    {
     "data": {
      "text/plain": [
       "['name', 'description', 'latitude', 'longitude', ' color']"
      ]
     },
     "execution_count": 21,
     "metadata": {},
     "output_type": "execute_result"
    }
   ],
   "source": [
    "# list of columns\n",
    "df.columns.to_list()"
   ]
  },
  {
   "cell_type": "code",
   "execution_count": 22,
   "metadata": {},
   "outputs": [
    {
     "data": {
      "text/html": [
       "<div>\n",
       "<style scoped>\n",
       "    .dataframe tbody tr th:only-of-type {\n",
       "        vertical-align: middle;\n",
       "    }\n",
       "\n",
       "    .dataframe tbody tr th {\n",
       "        vertical-align: top;\n",
       "    }\n",
       "\n",
       "    .dataframe thead th {\n",
       "        text-align: right;\n",
       "    }\n",
       "</style>\n",
       "<table border=\"1\" class=\"dataframe\">\n",
       "  <thead>\n",
       "    <tr style=\"text-align: right;\">\n",
       "      <th></th>\n",
       "      <th>name</th>\n",
       "      <th>latitude</th>\n",
       "      <th>longitude</th>\n",
       "    </tr>\n",
       "  </thead>\n",
       "  <tbody>\n",
       "    <tr>\n",
       "      <th>0</th>\n",
       "      <td>hkhome</td>\n",
       "      <td>22.317129</td>\n",
       "      <td>114.174648</td>\n",
       "    </tr>\n",
       "    <tr>\n",
       "      <th>1</th>\n",
       "      <td>jpnhome</td>\n",
       "      <td>35.840645</td>\n",
       "      <td>139.949278</td>\n",
       "    </tr>\n",
       "    <tr>\n",
       "      <th>2</th>\n",
       "      <td>reitaku</td>\n",
       "      <td>35.833270</td>\n",
       "      <td>139.955022</td>\n",
       "    </tr>\n",
       "    <tr>\n",
       "      <th>3</th>\n",
       "      <td>npl</td>\n",
       "      <td>22.313135</td>\n",
       "      <td>114.190123</td>\n",
       "    </tr>\n",
       "    <tr>\n",
       "      <th>4</th>\n",
       "      <td>tsl</td>\n",
       "      <td>22.315206</td>\n",
       "      <td>114.165315</td>\n",
       "    </tr>\n",
       "    <tr>\n",
       "      <th>5</th>\n",
       "      <td>mrg</td>\n",
       "      <td>22.316211</td>\n",
       "      <td>114.172716</td>\n",
       "    </tr>\n",
       "    <tr>\n",
       "      <th>6</th>\n",
       "      <td>mandarake</td>\n",
       "      <td>35.700621</td>\n",
       "      <td>139.770396</td>\n",
       "    </tr>\n",
       "    <tr>\n",
       "      <th>7</th>\n",
       "      <td>surugaya</td>\n",
       "      <td>35.701597</td>\n",
       "      <td>139.771920</td>\n",
       "    </tr>\n",
       "    <tr>\n",
       "      <th>8</th>\n",
       "      <td>catalley</td>\n",
       "      <td>35.845078</td>\n",
       "      <td>139.952457</td>\n",
       "    </tr>\n",
       "  </tbody>\n",
       "</table>\n",
       "</div>"
      ],
      "text/plain": [
       "        name   latitude   longitude\n",
       "0     hkhome  22.317129  114.174648\n",
       "1    jpnhome  35.840645  139.949278\n",
       "2    reitaku  35.833270  139.955022\n",
       "3        npl  22.313135  114.190123\n",
       "4        tsl  22.315206  114.165315\n",
       "5        mrg  22.316211  114.172716\n",
       "6  mandarake  35.700621  139.770396\n",
       "7   surugaya  35.701597  139.771920\n",
       "8   catalley  35.845078  139.952457"
      ]
     },
     "execution_count": 22,
     "metadata": {},
     "output_type": "execute_result"
    }
   ],
   "source": [
    "# show only specific columns\n",
    "df[['name','latitude','longitude']]"
   ]
  },
  {
   "cell_type": "code",
   "execution_count": 23,
   "metadata": {},
   "outputs": [
    {
     "data": {
      "text/plain": [
       "0    114.174648\n",
       "1    139.949278\n",
       "2    139.955022\n",
       "3    114.190123\n",
       "4    114.165315\n",
       "5    114.172716\n",
       "6    139.770396\n",
       "7    139.771920\n",
       "8    139.952457\n",
       "Name: longitude, dtype: float64"
      ]
     },
     "execution_count": 23,
     "metadata": {},
     "output_type": "execute_result"
    }
   ],
   "source": [
    "# get values for a single column\n",
    "df['longitude']"
   ]
  },
  {
   "cell_type": "code",
   "execution_count": 24,
   "metadata": {},
   "outputs": [
    {
     "data": {
      "text/plain": [
       "[22.31712869,\n",
       " 35.84064471,\n",
       " 35.83327034,\n",
       " 22.31313479,\n",
       " 22.31520556,\n",
       " 22.31621125,\n",
       " 35.70062128,\n",
       " 35.70159709,\n",
       " 35.84507801]"
      ]
     },
     "execution_count": 24,
     "metadata": {},
     "output_type": "execute_result"
    }
   ],
   "source": [
    "# put those values in a list\n",
    "df['latitude'].to_list()"
   ]
  },
  {
   "cell_type": "code",
   "execution_count": 25,
   "metadata": {},
   "outputs": [
    {
     "data": {
      "text/plain": [
       "<Axes: >"
      ]
     },
     "execution_count": 25,
     "metadata": {},
     "output_type": "execute_result"
    },
    {
     "data": {
      "image/png": "[encoded data removed]",
      "text/plain": [
       "<Figure size 640x480 with 1 Axes>"
      ]
     },
     "metadata": {},
     "output_type": "display_data"
    }
   ],
   "source": [
    "# line chart\n",
    "df['latitude'].plot()"
   ]
  },
  {
   "cell_type": "code",
   "execution_count": 26,
   "metadata": {},
   "outputs": [
    {
     "data": {
      "text/plain": [
       "<Axes: >"
      ]
     },
     "execution_count": 26,
     "metadata": {},
     "output_type": "execute_result"
    },
    {
     "data": {
      "image/png": "[encoded data removed]",
      "text/plain": [
       "<Figure size 640x480 with 1 Axes>"
      ]
     },
     "metadata": {},
     "output_type": "display_data"
    }
   ],
   "source": [
    "# boxplot 箱ヒゲ図\n",
    "df['latitude'].plot.box(color='red')"
   ]
  },
  {
   "cell_type": "code",
   "execution_count": 27,
   "metadata": {},
   "outputs": [
    {
     "name": "stdout",
     "output_type": "stream",
     "text": [
      "My name is Fumiaki\n",
      "My name is Yuya\n",
      "My name is Mifuyu\n",
      "My name is Pingxin\n",
      "My name is Alvin\n"
     ]
    }
   ],
   "source": [
    "# my students\n",
    "students = ['Fumiaki','Yuya','Mifuyu','Pingxin','Alvin']\n",
    "\n",
    "# print their names\n",
    "for name in students:\n",
    "    print('My name is', name)"
   ]
  },
  {
   "cell_type": "code",
   "execution_count": 28,
   "metadata": {},
   "outputs": [
    {
     "name": "stdout",
     "output_type": "stream",
     "text": [
      "hkhome 22.31712869\n",
      "jpnhome 35.84064471\n",
      "reitaku 35.83327034\n",
      "npl 22.31313479\n",
      "tsl 22.31520556\n",
      "mrg 22.31621125\n",
      "mandarake 35.70062128\n",
      "surugaya 35.70159709\n",
      "catalley 35.84507801\n"
     ]
    }
   ],
   "source": [
    "# loop through your data\n",
    "for index, row in df.iterrows():\n",
    "    print(row['name'],row['latitude'])"
   ]
  },
  {
   "cell_type": "code",
   "execution_count": 29,
   "metadata": {},
   "outputs": [
    {
     "name": "stdout",
     "output_type": "stream",
     "text": [
      "hkhome 22.31712869 114.1746481\n",
      "jpnhome 35.84064471 139.949278\n",
      "reitaku 35.83327034 139.9550219\n",
      "npl 22.31313479 114.1901231\n",
      "tsl 22.31520556 114.165315\n",
      "mrg 22.31621125 114.172716\n",
      "mandarake 35.70062128 139.7703961\n",
      "surugaya 35.70159709 139.7719196\n",
      "catalley 35.84507801 139.9524565\n"
     ]
    }
   ],
   "source": [
    "# loop and output multiple column values\n",
    "for index, row in df.iterrows():\n",
    "    print(row['name'],row['latitude'],row['longitude'])"
   ]
  },
  {
   "cell_type": "code",
   "execution_count": 33,
   "metadata": {},
   "outputs": [
    {
     "ename": "KeyError",
     "evalue": "'color'",
     "output_type": "error",
     "traceback": [
      "\u001b[1;31m---------------------------------------------------------------------------\u001b[0m",
      "\u001b[1;31mKeyError\u001b[0m                                  Traceback (most recent call last)",
      "File \u001b[1;32mc:\\Users\\ASUS\\miniconda3\\envs\\gis\\Lib\\site-packages\\pandas\\core\\indexes\\base.py:3790\u001b[0m, in \u001b[0;36mIndex.get_loc\u001b[1;34m(self, key)\u001b[0m\n\u001b[0;32m   3789\u001b[0m \u001b[39mtry\u001b[39;00m:\n\u001b[1;32m-> 3790\u001b[0m     \u001b[39mreturn\u001b[39;00m \u001b[39mself\u001b[39;49m\u001b[39m.\u001b[39;49m_engine\u001b[39m.\u001b[39;49mget_loc(casted_key)\n\u001b[0;32m   3791\u001b[0m \u001b[39mexcept\u001b[39;00m \u001b[39mKeyError\u001b[39;00m \u001b[39mas\u001b[39;00m err:\n",
      "File \u001b[1;32mindex.pyx:152\u001b[0m, in \u001b[0;36mpandas._libs.index.IndexEngine.get_loc\u001b[1;34m()\u001b[0m\n",
      "File \u001b[1;32mindex.pyx:181\u001b[0m, in \u001b[0;36mpandas._libs.index.IndexEngine.get_loc\u001b[1;34m()\u001b[0m\n",
      "File \u001b[1;32mpandas\\_libs\\hashtable_class_helper.pxi:7080\u001b[0m, in \u001b[0;36mpandas._libs.hashtable.PyObjectHashTable.get_item\u001b[1;34m()\u001b[0m\n",
      "File \u001b[1;32mpandas\\_libs\\hashtable_class_helper.pxi:7088\u001b[0m, in \u001b[0;36mpandas._libs.hashtable.PyObjectHashTable.get_item\u001b[1;34m()\u001b[0m\n",
      "\u001b[1;31mKeyError\u001b[0m: 'color'",
      "\nThe above exception was the direct cause of the following exception:\n",
      "\u001b[1;31mKeyError\u001b[0m                                  Traceback (most recent call last)",
      "\u001b[1;32mc:\\Users\\ASUS\\Documents\\麗澤大学\\GIS\\GIS\\week06\\week6map.ipynb Cell 14\u001b[0m line \u001b[0;36m1\n\u001b[0;32m      <a href='vscode-notebook-cell:/c%3A/Users/ASUS/Documents/%E9%BA%97%E6%BE%A4%E5%A4%A7%E5%AD%A6/GIS/GIS/week06/week6map.ipynb#X21sZmlsZQ%3D%3D?line=4'>5</a>\u001b[0m \u001b[39mfor\u001b[39;00m index, row \u001b[39min\u001b[39;00m df\u001b[39m.\u001b[39miterrows():\n\u001b[0;32m      <a href='vscode-notebook-cell:/c%3A/Users/ASUS/Documents/%E9%BA%97%E6%BE%A4%E5%A4%A7%E5%AD%A6/GIS/GIS/week06/week6map.ipynb#X21sZmlsZQ%3D%3D?line=5'>6</a>\u001b[0m     latlon \u001b[39m=\u001b[39m [row[\u001b[39m'\u001b[39m\u001b[39mlatitude\u001b[39m\u001b[39m'\u001b[39m],row[\u001b[39m'\u001b[39m\u001b[39mlongitude\u001b[39m\u001b[39m'\u001b[39m]]\n\u001b[0;32m      <a href='vscode-notebook-cell:/c%3A/Users/ASUS/Documents/%E9%BA%97%E6%BE%A4%E5%A4%A7%E5%AD%A6/GIS/GIS/week06/week6map.ipynb#X21sZmlsZQ%3D%3D?line=6'>7</a>\u001b[0m     folium\u001b[39m.\u001b[39mMarker(latlon, \n\u001b[0;32m      <a href='vscode-notebook-cell:/c%3A/Users/ASUS/Documents/%E9%BA%97%E6%BE%A4%E5%A4%A7%E5%AD%A6/GIS/GIS/week06/week6map.ipynb#X21sZmlsZQ%3D%3D?line=7'>8</a>\u001b[0m                   popup\u001b[39m=\u001b[39m\u001b[39m'\u001b[39m\u001b[39m<div style=\u001b[39m\u001b[39m\"\u001b[39m\u001b[39mwidth:250px\u001b[39m\u001b[39m\"\u001b[39m\u001b[39m>\u001b[39m\u001b[39m'\u001b[39m\u001b[39m+\u001b[39mrow[\u001b[39m'\u001b[39m\u001b[39mdescription\u001b[39m\u001b[39m'\u001b[39m]\u001b[39m+\u001b[39m\u001b[39m'\u001b[39m\u001b[39m</div>\u001b[39m\u001b[39m'\u001b[39m, \n\u001b[0;32m      <a href='vscode-notebook-cell:/c%3A/Users/ASUS/Documents/%E9%BA%97%E6%BE%A4%E5%A4%A7%E5%AD%A6/GIS/GIS/week06/week6map.ipynb#X21sZmlsZQ%3D%3D?line=8'>9</a>\u001b[0m                   tooltip\u001b[39m=\u001b[39mrow[\u001b[39m'\u001b[39m\u001b[39mname\u001b[39m\u001b[39m'\u001b[39m],\n\u001b[1;32m---> <a href='vscode-notebook-cell:/c%3A/Users/ASUS/Documents/%E9%BA%97%E6%BE%A4%E5%A4%A7%E5%AD%A6/GIS/GIS/week06/week6map.ipynb#X21sZmlsZQ%3D%3D?line=9'>10</a>\u001b[0m                   icon\u001b[39m=\u001b[39mfolium\u001b[39m.\u001b[39mIcon(color\u001b[39m=\u001b[39mrow[\u001b[39m'\u001b[39;49m\u001b[39mcolor\u001b[39;49m\u001b[39m'\u001b[39;49m]\n\u001b[0;32m     <a href='vscode-notebook-cell:/c%3A/Users/ASUS/Documents/%E9%BA%97%E6%BE%A4%E5%A4%A7%E5%AD%A6/GIS/GIS/week06/week6map.ipynb#X21sZmlsZQ%3D%3D?line=10'>11</a>\u001b[0m                 ))\u001b[39m.\u001b[39madd_to(m)\n\u001b[0;32m     <a href='vscode-notebook-cell:/c%3A/Users/ASUS/Documents/%E9%BA%97%E6%BE%A4%E5%A4%A7%E5%AD%A6/GIS/GIS/week06/week6map.ipynb#X21sZmlsZQ%3D%3D?line=12'>13</a>\u001b[0m \u001b[39m# show the map\u001b[39;00m\n\u001b[0;32m     <a href='vscode-notebook-cell:/c%3A/Users/ASUS/Documents/%E9%BA%97%E6%BE%A4%E5%A4%A7%E5%AD%A6/GIS/GIS/week06/week6map.ipynb#X21sZmlsZQ%3D%3D?line=13'>14</a>\u001b[0m m\n",
      "File \u001b[1;32mc:\\Users\\ASUS\\miniconda3\\envs\\gis\\Lib\\site-packages\\pandas\\core\\series.py:1040\u001b[0m, in \u001b[0;36mSeries.__getitem__\u001b[1;34m(self, key)\u001b[0m\n\u001b[0;32m   1037\u001b[0m     \u001b[39mreturn\u001b[39;00m \u001b[39mself\u001b[39m\u001b[39m.\u001b[39m_values[key]\n\u001b[0;32m   1039\u001b[0m \u001b[39melif\u001b[39;00m key_is_scalar:\n\u001b[1;32m-> 1040\u001b[0m     \u001b[39mreturn\u001b[39;00m \u001b[39mself\u001b[39;49m\u001b[39m.\u001b[39;49m_get_value(key)\n\u001b[0;32m   1042\u001b[0m \u001b[39m# Convert generator to list before going through hashable part\u001b[39;00m\n\u001b[0;32m   1043\u001b[0m \u001b[39m# (We will iterate through the generator there to check for slices)\u001b[39;00m\n\u001b[0;32m   1044\u001b[0m \u001b[39mif\u001b[39;00m is_iterator(key):\n",
      "File \u001b[1;32mc:\\Users\\ASUS\\miniconda3\\envs\\gis\\Lib\\site-packages\\pandas\\core\\series.py:1156\u001b[0m, in \u001b[0;36mSeries._get_value\u001b[1;34m(self, label, takeable)\u001b[0m\n\u001b[0;32m   1153\u001b[0m     \u001b[39mreturn\u001b[39;00m \u001b[39mself\u001b[39m\u001b[39m.\u001b[39m_values[label]\n\u001b[0;32m   1155\u001b[0m \u001b[39m# Similar to Index.get_value, but we do not fall back to positional\u001b[39;00m\n\u001b[1;32m-> 1156\u001b[0m loc \u001b[39m=\u001b[39m \u001b[39mself\u001b[39;49m\u001b[39m.\u001b[39;49mindex\u001b[39m.\u001b[39;49mget_loc(label)\n\u001b[0;32m   1158\u001b[0m \u001b[39mif\u001b[39;00m is_integer(loc):\n\u001b[0;32m   1159\u001b[0m     \u001b[39mreturn\u001b[39;00m \u001b[39mself\u001b[39m\u001b[39m.\u001b[39m_values[loc]\n",
      "File \u001b[1;32mc:\\Users\\ASUS\\miniconda3\\envs\\gis\\Lib\\site-packages\\pandas\\core\\indexes\\base.py:3797\u001b[0m, in \u001b[0;36mIndex.get_loc\u001b[1;34m(self, key)\u001b[0m\n\u001b[0;32m   3792\u001b[0m     \u001b[39mif\u001b[39;00m \u001b[39misinstance\u001b[39m(casted_key, \u001b[39mslice\u001b[39m) \u001b[39mor\u001b[39;00m (\n\u001b[0;32m   3793\u001b[0m         \u001b[39misinstance\u001b[39m(casted_key, abc\u001b[39m.\u001b[39mIterable)\n\u001b[0;32m   3794\u001b[0m         \u001b[39mand\u001b[39;00m \u001b[39many\u001b[39m(\u001b[39misinstance\u001b[39m(x, \u001b[39mslice\u001b[39m) \u001b[39mfor\u001b[39;00m x \u001b[39min\u001b[39;00m casted_key)\n\u001b[0;32m   3795\u001b[0m     ):\n\u001b[0;32m   3796\u001b[0m         \u001b[39mraise\u001b[39;00m InvalidIndexError(key)\n\u001b[1;32m-> 3797\u001b[0m     \u001b[39mraise\u001b[39;00m \u001b[39mKeyError\u001b[39;00m(key) \u001b[39mfrom\u001b[39;00m \u001b[39merr\u001b[39;00m\n\u001b[0;32m   3798\u001b[0m \u001b[39mexcept\u001b[39;00m \u001b[39mTypeError\u001b[39;00m:\n\u001b[0;32m   3799\u001b[0m     \u001b[39m# If we have a listlike key, _check_indexing_error will raise\u001b[39;00m\n\u001b[0;32m   3800\u001b[0m     \u001b[39m#  InvalidIndexError. Otherwise we fall through and re-raise\u001b[39;00m\n\u001b[0;32m   3801\u001b[0m     \u001b[39m#  the TypeError.\u001b[39;00m\n\u001b[0;32m   3802\u001b[0m     \u001b[39mself\u001b[39m\u001b[39m.\u001b[39m_check_indexing_error(key)\n",
      "\u001b[1;31mKeyError\u001b[0m: 'color'"
     ]
    }
   ],
   "source": [
    "# make the map\n",
    "m = folium.Map(location=[22.3285, 114.1839], zoom_start=17)\n",
    "\n",
    "# df をループしてマーカーを作る\n",
    "for index, row in df.iterrows():\n",
    "    latlon = [row['latitude'],row['longitude']]\n",
    "    folium.Marker(latlon, \n",
    "                  popup='<div style=\"width:250px\">'+row['description']+'</div>', \n",
    "                  tooltip=row['name'],\n",
    "                  icon=folium.Icon(color=row['color']\n",
    "                )).add_to(m)\n",
    "\n",
    "# show the map\n",
    "m"
   ]
  },
  {
   "cell_type": "code",
   "execution_count": null,
   "metadata": {},
   "outputs": [],
   "source": []
  }
 ],
 "metadata": {
  "kernelspec": {
   "display_name": "gis",
   "language": "python",
   "name": "python3"
  },
  "language_info": {
   "codemirror_mode": {
    "name": "ipython",
    "version": 3
   },
   "file_extension": ".py",
   "mimetype": "text/x-python",
   "name": "python",
   "nbconvert_exporter": "python",
   "pygments_lexer": "ipython3",
   "version": "3.11.5"
  }
 },
 "nbformat": 4,
 "nbformat_minor": 2
}
